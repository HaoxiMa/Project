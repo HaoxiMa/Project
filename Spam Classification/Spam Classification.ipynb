{
 "cells": [
  {
   "cell_type": "markdown",
   "metadata": {},
   "source": [
    "# Spam Classification"
   ]
  },
  {
   "cell_type": "markdown",
   "metadata": {},
   "source": [
    "这部分用SVM建立一个垃圾邮件分类器<br/>\n",
    "需要将每个email变成一个n维的特征向量，这个分类器将判断给定一个邮件X是垃圾邮件(y=1)或不是垃圾邮件(y=0)"
   ]
  },
  {
   "cell_type": "code",
   "execution_count": 1,
   "metadata": {},
   "outputs": [],
   "source": [
    "from IPython.core.interactiveshell import InteractiveShell\n",
    "InteractiveShell.ast_node_interactivity='all'"
   ]
  },
  {
   "cell_type": "code",
   "execution_count": 2,
   "metadata": {},
   "outputs": [],
   "source": [
    "import numpy as np\n",
    "import pandas as pd\n",
    "import matplotlib.pyplot as plt\n",
    "from scipy.io import loadmat\n",
    "from sklearn import svm\n",
    "import re #regular expression for e-mail processing\n",
    "\n",
    "# 也是一个英文分词的算法,与上面效果差不多\n",
    "import nltk, nltk.stem.porter"
   ]
  },
  {
   "cell_type": "markdown",
   "metadata": {},
   "source": [
    "### Preprocessing Emails"
   ]
  },
  {
   "cell_type": "code",
   "execution_count": 3,
   "metadata": {},
   "outputs": [
    {
     "name": "stdout",
     "output_type": "stream",
     "text": [
      "> Anyone knows how much it costs to host a web portal ?\n",
      ">\n",
      "Well, it depends on how many visitors you're expecting.\n",
      "This can be anywhere from less than 10 bucks a month to a couple of $100. \n",
      "You should checkout http://www.rackspace.com/ or perhaps Amazon EC2 \n",
      "if youre running something big..\n",
      "\n",
      "To unsubscribe yourself from this mailing list, send an email to:\n",
      "groupname-unsubscribe@egroups.com\n",
      "\n",
      "\n"
     ]
    }
   ],
   "source": [
    "# Take a look at an example from the dataset\n",
    "with open(\"emailSample.txt\",\"r\") as f:\n",
    "    email = f.read()\n",
    "    print(email)"
   ]
  },
  {
   "cell_type": "markdown",
   "metadata": {},
   "source": [
    "可以看到，邮件内容包含 URL, an email address(at the end), numbers, and dollar amounts。很多邮件都会包含这些元素，但是每封邮件的具体内容可能会不一样。因此，处理邮件经常采用的方法是标准化这些数据，把所有URL当作一样，所有数字看作一样<br/>\n",
    "例如，我们用唯一的一个字符串‘httpaddr’来替换所有的URL，来表示邮件包含URL，而不要求具体的URL内容。这通常会提高垃圾邮件分类器的性能，因为垃圾邮件发送者通常会随机化URL，因此在新的垃圾邮件中再次看到任何特定URL的几率非常小"
   ]
  },
  {
   "cell_type": "markdown",
   "metadata": {},
   "source": [
    "我们可以做如下处理:<br/>\n",
    "1. Lower-casing: 把整封邮件转化为小写<br/>\n",
    "2. Stripping HTML: 移除所有HTML标签，只保留内容<br/>\n",
    "3. Normalizing URLs: 将所有的URL替换为字符串 “httpaddr”<br/>\n",
    "4. Normalizing Email Addresses: 所有的地址替换为 “emailaddr”<br/>\n",
    "5. Normalizing Dollars: 所有dollar符号($)替换为“dollar”<br/>\n",
    "6. Normalizing Numbers: 所有数字替换为“number”<br/>\n",
    "7. Word Stemming(词干提取): 将所有单词还原为词源。例如，“discount”, “discounts”, “discounted” and “discounting”都替换为“discount”<br/>\n",
    "8. Removal of non-words: 移除所有非文字类型，所有的空格(tabs, newlines, spaces)调整为一个空格<br/>"
   ]
  },
  {
   "cell_type": "code",
   "execution_count": 4,
   "metadata": {},
   "outputs": [],
   "source": [
    "def processEmail(email):\n",
    "    \"\"\"做除了Word Stemming和Removal of non-words的所有处理\"\"\"\n",
    "    email = email.lower()\n",
    "    email = re.sub('<[^<>]>', ' ', email)  #移除HTML标签\n",
    "    email = re.sub('(http|https)://[^\\s]*', 'httpaddr', email)  # 匹配//后面不是空白字符的内容，遇到空白字符则停止\n",
    "    email = re.sub('[^\\s]+@[^\\s]+', 'emailaddr', email)\n",
    "    email = re.sub('[\\$]+', 'dollar', email)\n",
    "    email = re.sub('[\\d]+', 'number', email) \n",
    "    return email"
   ]
  },
  {
   "cell_type": "code",
   "execution_count": 5,
   "metadata": {},
   "outputs": [],
   "source": [
    "#提取词干并去除非字符内容\n",
    "def email2TokenList(email):\n",
    "    \"\"\"预处理数据，返回一个干净的单词列表\"\"\"\n",
    "    \n",
    "    #Use the NLTK stemmer\n",
    "    stemmer = nltk.stem.porter.PorterStemmer()\n",
    "    \n",
    "    email = processEmail(email)\n",
    "\n",
    "    # 将邮件分割为单个单词，re.split() 可以设置多种分隔符\n",
    "    tokens = re.split('[ \\@\\$\\/\\#\\.\\-\\:\\&\\*\\+\\=\\[\\]\\?\\!\\(\\)\\{\\}\\,\\'\\\"\\>\\_\\<\\;\\%]', email)\n",
    "    \n",
    "    # 遍历每个分割出来的内容\n",
    "    tokenlist = []\n",
    "    for token in tokens:\n",
    "        # 删除任何非字母数字的字符\n",
    "        token = re.sub('[^a-zA-Z0-9]', '', token);\n",
    "        # Use the Porter stemmer to 提取词根\n",
    "        stemmed = stemmer.stem(token)\n",
    "        # 去除空字符串‘’，里面不含任何字符\n",
    "        if not len(token): continue\n",
    "        tokenlist.append(stemmed)\n",
    "    return tokenlist  "
   ]
  },
  {
   "cell_type": "code",
   "execution_count": 6,
   "metadata": {},
   "outputs": [
    {
     "data": {
      "text/plain": [
       "\"> Anyone knows how much it costs to host a web portal ?\\n>\\nWell, it depends on how many visitors you're expecting.\\nThis can be anywhere from less than 10 bucks a month to a couple of $100. \\nYou should checkout http://www.rackspace.com/ or perhaps Amazon EC2 \\nif youre running something big..\\n\\nTo unsubscribe yourself from this mailing list, send an email to:\\ngroupname-unsubscribe@egroups.com\\n\\n\""
      ]
     },
     "execution_count": 6,
     "metadata": {},
     "output_type": "execute_result"
    }
   ],
   "source": [
    "email"
   ]
  },
  {
   "cell_type": "code",
   "execution_count": 7,
   "metadata": {},
   "outputs": [
    {
     "name": "stdout",
     "output_type": "stream",
     "text": [
      "['anyon', 'know', 'how', 'much', 'it', 'cost', 'to', 'host', 'a', 'web', 'portal', 'well', 'it', 'depend', 'on', 'how', 'mani', 'visitor', 'you', 're', 'expect', 'thi', 'can', 'be', 'anywher', 'from', 'less', 'than', 'number', 'buck', 'a', 'month', 'to', 'a', 'coupl', 'of', 'dollarnumb', 'you', 'should', 'checkout', 'httpaddr', 'or', 'perhap', 'amazon', 'ecnumb', 'if', 'your', 'run', 'someth', 'big', 'to', 'unsubscrib', 'yourself', 'from', 'thi', 'mail', 'list', 'send', 'an', 'email', 'to', 'emailaddr']\n"
     ]
    }
   ],
   "source": [
    "refined_email = email2TokenList(email)\n",
    "print(refined_email)"
   ]
  },
  {
   "cell_type": "markdown",
   "metadata": {},
   "source": [
    "### Vocabulary List and Extracting Features from Emails"
   ]
  },
  {
   "cell_type": "markdown",
   "metadata": {},
   "source": [
    "在对邮件进行预处理之后，我们有一个处理后的单词列表。下一步是选择我们想在分类器中使用哪些词，我们需要去除哪些词。\n",
    "<br/>\n",
    "我们有一个词汇表vocab.txt--Our vocabulary list was selected by choosing all words which occur at least a 100 times in the spam corpus, resulting in a list of 1899 words。\n",
    "<br/>\n",
    "我们要算出处理后的email中含有多少vocab.txt中的单词，并返回在vocab.txt中的index，这就我们想要的训练单词的索引。"
   ]
  },
  {
   "cell_type": "code",
   "execution_count": 8,
   "metadata": {},
   "outputs": [],
   "source": [
    "def email2VocabIndices(email, vocab):\n",
    "    \"\"\"提取存在单词的索引\"\"\"\n",
    "    token = email2TokenList(email)\n",
    "    index = [i for i in range(len(vocab)) if vocab[i] in token ]\n",
    "    return index"
   ]
  },
  {
   "cell_type": "code",
   "execution_count": 9,
   "metadata": {},
   "outputs": [],
   "source": [
    "def email2FeatureVector(email):\n",
    "    \"\"\"\n",
    "    将email转化为词向量，n是vocab的长度。存在单词的相应位置的值置为1，其余为0\n",
    "    \"\"\"\n",
    "    df = pd.read_table('vocab.txt',names=['words'])\n",
    "    vocab = np.matrix(df.values)  # return array\n",
    "    vector = np.zeros(len(vocab))  # init vector\n",
    "    vocab_indices = email2VocabIndices(email, vocab)  # 返回含有单词的索引\n",
    "    # 将有单词的索引置为1\n",
    "    for i in vocab_indices:\n",
    "        vector[i] = 1\n",
    "    return vector"
   ]
  },
  {
   "cell_type": "code",
   "execution_count": 10,
   "metadata": {},
   "outputs": [
    {
     "name": "stdout",
     "output_type": "stream",
     "text": [
      "length of vector = 1899\n",
      "num of non-zero = 45\n"
     ]
    }
   ],
   "source": [
    "vector = email2FeatureVector(email)\n",
    "print('length of vector = {}\\nnum of non-zero = {}'.format(len(vector), int(vector.sum())))"
   ]
  },
  {
   "cell_type": "code",
   "execution_count": 11,
   "metadata": {},
   "outputs": [
    {
     "data": {
      "text/plain": [
       "array([0., 0., 0., ..., 0., 0., 0.])"
      ]
     },
     "execution_count": 11,
     "metadata": {},
     "output_type": "execute_result"
    }
   ],
   "source": [
    "vector"
   ]
  },
  {
   "cell_type": "markdown",
   "metadata": {},
   "source": [
    "### Training SVM for Spam Classification"
   ]
  },
  {
   "cell_type": "markdown",
   "metadata": {},
   "source": [
    "读取已经经过处理并提取好了特征向量以及相应标签的测试集和训练集"
   ]
  },
  {
   "cell_type": "code",
   "execution_count": 12,
   "metadata": {},
   "outputs": [
    {
     "data": {
      "text/plain": [
       "((4000, 1899), (4000, 1))"
      ]
     },
     "execution_count": 12,
     "metadata": {},
     "output_type": "execute_result"
    },
    {
     "data": {
      "text/plain": [
       "((1000, 1899), (1000, 1))"
      ]
     },
     "execution_count": 12,
     "metadata": {},
     "output_type": "execute_result"
    }
   ],
   "source": [
    "data1 = loadmat(\"spamTrain.mat\")\n",
    "X,y = data1[\"X\"],data1[\"y\"]\n",
    "data2 = loadmat(\"spamTest.mat\")\n",
    "Xtest,ytest = data2[\"Xtest\"],data2[\"ytest\"]\n",
    "X.shape,y.shape\n",
    "Xtest.shape,ytest.shape"
   ]
  },
  {
   "cell_type": "code",
   "execution_count": 13,
   "metadata": {},
   "outputs": [],
   "source": [
    "SVM = svm.SVC(C=0.1,kernel=\"linear\")\n",
    "model = SVM.fit(X,y.ravel())"
   ]
  },
  {
   "cell_type": "code",
   "execution_count": 14,
   "metadata": {},
   "outputs": [
    {
     "data": {
      "text/plain": [
       "0.99825"
      ]
     },
     "execution_count": 14,
     "metadata": {},
     "output_type": "execute_result"
    },
    {
     "data": {
      "text/plain": [
       "0.989"
      ]
     },
     "execution_count": 14,
     "metadata": {},
     "output_type": "execute_result"
    }
   ],
   "source": [
    "#输出准确率\n",
    "model.score(X,y)\n",
    "model.score(Xtest,ytest)"
   ]
  }
 ],
 "metadata": {
  "kernelspec": {
   "display_name": "Python 3",
   "language": "python",
   "name": "python3"
  },
  "language_info": {
   "codemirror_mode": {
    "name": "ipython",
    "version": 3
   },
   "file_extension": ".py",
   "mimetype": "text/x-python",
   "name": "python",
   "nbconvert_exporter": "python",
   "pygments_lexer": "ipython3",
   "version": "3.7.4"
  },
  "toc": {
   "base_numbering": 1,
   "nav_menu": {},
   "number_sections": false,
   "sideBar": true,
   "skip_h1_title": false,
   "title_cell": "Table of Contents",
   "title_sidebar": "Contents",
   "toc_cell": false,
   "toc_position": {},
   "toc_section_display": true,
   "toc_window_display": false
  },
  "varInspector": {
   "cols": {
    "lenName": 16,
    "lenType": 16,
    "lenVar": 40
   },
   "kernels_config": {
    "python": {
     "delete_cmd_postfix": "",
     "delete_cmd_prefix": "del ",
     "library": "var_list.py",
     "varRefreshCmd": "print(var_dic_list())"
    },
    "r": {
     "delete_cmd_postfix": ") ",
     "delete_cmd_prefix": "rm(",
     "library": "var_list.r",
     "varRefreshCmd": "cat(var_dic_list()) "
    }
   },
   "types_to_exclude": [
    "module",
    "function",
    "builtin_function_or_method",
    "instance",
    "_Feature"
   ],
   "window_display": true
  }
 },
 "nbformat": 4,
 "nbformat_minor": 2
}
